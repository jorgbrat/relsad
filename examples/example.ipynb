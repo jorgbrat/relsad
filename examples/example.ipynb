{
 "cells": [
  {
   "cell_type": "markdown",
   "metadata": {
    "slideshow": {
     "slide_type": "-"
    }
   },
   "source": [
    "# Example of usage"
   ]
  },
  {
   "cell_type": "code",
   "execution_count": null,
   "metadata": {
    "slideshow": {
     "slide_type": "-"
    }
   },
   "outputs": [],
   "source": [
    "from stinetwork.test_networks.smallNetwork import initialize_test_network\n",
    "from stinetwork.visualization.plotting import plot_topology\n",
    "from stinetwork.loadflow.ac import DistLoadFlow\n",
    "from stinetwork.visualization.printing import dispVolt, dispFlow, ForwardSearch, BackwardSearch\n",
    "from load_and_gen_data import WeatherGen,LoadGen,windGen,PVgeneration"
   ]
  },
  {
   "cell_type": "markdown",
   "metadata": {
    "slideshow": {
     "slide_type": "-"
    }
   },
   "source": [
    "## Initialize\n",
    "\n",
    "Initialize test network:"
   ]
  },
  {
   "cell_type": "code",
   "execution_count": null,
   "metadata": {},
   "outputs": [],
   "source": [
    "ps = initialize_test_network()"
   ]
  },
  {
   "cell_type": "markdown",
   "metadata": {
    "slideshow": {
     "slide_type": "-"
    }
   },
   "source": [
    "Fetch bus-objects:"
   ]
  },
  {
   "cell_type": "code",
   "execution_count": null,
   "metadata": {},
   "outputs": [],
   "source": [
    "B0 = ps.get_comp(\"B0\")\n",
    "B1 = ps.get_comp(\"B1\")\n",
    "B2 = ps.get_comp(\"B2\")\n",
    "B3 = ps.get_comp(\"B3\")\n",
    "B4 = ps.get_comp(\"B4\")\n",
    "B5 = ps.get_comp(\"B5\")\n",
    "M1 = ps.get_comp(\"M1\")\n",
    "M2 = ps.get_comp(\"M2\")\n",
    "M3 = ps.get_comp(\"M3\")"
   ]
  },
  {
   "cell_type": "markdown",
   "metadata": {},
   "source": [
    "Fetch line-objects:"
   ]
  },
  {
   "cell_type": "code",
   "execution_count": null,
   "metadata": {},
   "outputs": [],
   "source": [
    "L1 = ps.get_comp(\"L1\")\n",
    "L2 = ps.get_comp(\"L2\")\n",
    "L3 = ps.get_comp(\"L3\")\n",
    "L4 = ps.get_comp(\"L4\")\n",
    "L5 = ps.get_comp(\"L5\")\n",
    "L6 = ps.get_comp(\"L6\")\n",
    "L7 = ps.get_comp(\"L7\")\n",
    "ML1 = ps.get_comp(\"ML1\")\n",
    "ML2 = ps.get_comp(\"ML2\")"
   ]
  },
  {
   "cell_type": "markdown",
   "metadata": {},
   "source": [
    "Fetch battery objects:"
   ]
  },
  {
   "cell_type": "code",
   "execution_count": null,
   "metadata": {},
   "outputs": [],
   "source": [
    "Bat1 = M1.get_battery()\n",
    "Bat1.print_status()"
   ]
  },
  {
   "cell_type": "markdown",
   "metadata": {},
   "source": [
    "Fetch disconnector objects:"
   ]
  },
  {
   "cell_type": "code",
   "execution_count": null,
   "metadata": {},
   "outputs": [],
   "source": [
    "L1a = ps.get_comp(\"L1a\")\n",
    "L1b = ps.get_comp(\"L1b\")\n",
    "L1c = ps.get_comp(\"L1c\")\n",
    "L2a = ps.get_comp(\"L2a\")\n",
    "L3a = ps.get_comp(\"L3a\")\n",
    "L3b = ps.get_comp(\"L3b\")\n",
    "L4a = ps.get_comp(\"L4a\")\n",
    "L5a = ps.get_comp(\"L5a\")\n",
    "L6a = ps.get_comp(\"L6a\")\n",
    "L7a = ps.get_comp(\"L7a\")\n",
    "L7b = ps.get_comp(\"L7b\")"
   ]
  },
  {
   "cell_type": "markdown",
   "metadata": {},
   "source": [
    "Get load profiles:"
   ]
  },
  {
   "cell_type": "code",
   "execution_count": null,
   "metadata": {},
   "outputs": [],
   "source": [
    "temp_profiles, wind_profiles, solar_profiles = WeatherGen()\n",
    "\n",
    "wind = windGen(wind_profiles)\n",
    "PV = PVgeneration(temp_profiles, solar_profiles)\n",
    "\n",
    "load_house, load_farm, load_industry2, load_trade, load_office = LoadGen(temp_profiles)"
   ]
  },
  {
   "cell_type": "code",
   "execution_count": null,
   "metadata": {},
   "outputs": [],
   "source": [
    "import numpy as np\n",
    "print(np.random.choice([True,False],p=[0.2,0.8]))"
   ]
  },
  {
   "cell_type": "markdown",
   "metadata": {},
   "source": [
    "## Monte Carlo simulation\n"
   ]
  },
  {
   "cell_type": "code",
   "execution_count": null,
   "metadata": {},
   "outputs": [],
   "source": [
    "N = 1 # Size of Monte Carlo simulation\n",
    "\n",
    "for i in range(N):\n",
    "    for day in range(365):\n",
    "        for hour in range(24):\n",
    "            ## Set load\n",
    "            B1.set_load(pload=load_house[day,hour]*10,qload=0.0)\n",
    "            B2.set_load(pload=load_house[day,hour]*10,qload=0.0)\n",
    "            B3.set_load(pload=load_house[day,hour]*10,qload=0.0)\n",
    "            B4.set_load(pload=load_house[day,hour]*10,qload=0.0)\n",
    "            B5.set_load(pload=load_house[day,hour]*10,qload=0.0)\n",
    "            M1.set_load(pload=load_house[day,hour]*10,qload=0.0)\n",
    "            M2.set_load(pload=load_house[day,hour]*10,qload=0.0)\n",
    "            M3.set_load(pload=load_house[day,hour]*10,qload=0.0)\n",
    "            \n",
    "            ## Set fail status\n",
    "            for comp in ps.get_comp_list():\n",
    "                comp.update_fail_status()\n",
    "                \n",
    "            ## Set backup lines fail status\n",
    "            for comp in ps.all_lines:\n",
    "                comp.update_backup_fail_status()\n",
    "                \n",
    "            ps.find_sub_systems()\n",
    "            ps.update_sub_system_slack()\n",
    "            \n",
    "            ## Load flow\n",
    "            for sub_system in ps.sub_systems:\n",
    "                buses = DistLoadFlow(sub_system[\"buses\"],sub_system[\"lines\"])\n",
    "            \n",
    "            ## Print status\n",
    "            ps.print_status()\n",
    "            "
   ]
  }
 ],
 "metadata": {
  "kernelspec": {
   "display_name": "Python 3",
   "language": "python",
   "name": "python3"
  },
  "language_info": {
   "codemirror_mode": {
    "name": "ipython",
    "version": 3
   },
   "file_extension": ".py",
   "mimetype": "text/x-python",
   "name": "python",
   "nbconvert_exporter": "python",
   "pygments_lexer": "ipython3",
   "version": "3.7.5"
  }
 },
 "nbformat": 4,
 "nbformat_minor": 4
}
