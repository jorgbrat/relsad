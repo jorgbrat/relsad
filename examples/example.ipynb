{
 "cells": [
  {
   "cell_type": "markdown",
   "metadata": {
    "slideshow": {
     "slide_type": "-"
    }
   },
   "source": [
    "# Example of usage"
   ]
  },
  {
   "cell_type": "code",
   "execution_count": 1,
   "metadata": {
    "slideshow": {
     "slide_type": "-"
    }
   },
   "outputs": [],
   "source": [
    "from stinetwork.test_networks.smallNetwork import initialize_test_network\n",
    "from stinetwork.visualization.plotting import plot_topology\n",
    "from stinetwork.loadflow.ac import DistLoadFlow\n",
    "from stinetwork.visualization.printing import dispVolt, dispFlow, ForwardSearch, BackwardSearch\n",
    "from load_and_gen_data import WeatherGen,LoadGen,windGen,PVgeneration"
   ]
  },
  {
   "cell_type": "markdown",
   "metadata": {
    "slideshow": {
     "slide_type": "-"
    }
   },
   "source": [
    "Initialize test network:"
   ]
  },
  {
   "cell_type": "code",
   "execution_count": 2,
   "metadata": {},
   "outputs": [],
   "source": [
    "ps = initialize_test_network()"
   ]
  },
  {
   "cell_type": "markdown",
   "metadata": {
    "slideshow": {
     "slide_type": "-"
    }
   },
   "source": [
    "Fetch bus-objects:"
   ]
  },
  {
   "cell_type": "code",
   "execution_count": 3,
   "metadata": {},
   "outputs": [],
   "source": [
    "B0 = ps.get_comp(\"B0\")\n",
    "B1 = ps.get_comp(\"B1\")\n",
    "B2 = ps.get_comp(\"B2\")\n",
    "B3 = ps.get_comp(\"B3\")\n",
    "B4 = ps.get_comp(\"B4\")\n",
    "B5 = ps.get_comp(\"B5\")\n",
    "M1 = ps.get_comp(\"M1\")\n",
    "M2 = ps.get_comp(\"M2\")\n",
    "M3 = ps.get_comp(\"M3\")"
   ]
  },
  {
   "cell_type": "markdown",
   "metadata": {},
   "source": [
    "Fetch battery objects:"
   ]
  },
  {
   "cell_type": "code",
   "execution_count": 4,
   "metadata": {},
   "outputs": [
    {
     "name": "stdout",
     "output_type": "stream",
     "text": [
      "Battery status\n",
      "name: Bat1\n",
      "parent bus: M1\n",
      "injPmax: 1 MW\n",
      "injQmax: 1 MVar\n",
      "E_max: 3 MWh\n",
      "Efficiency: 97.0 %\n",
      "SOC_min: 0.2\n",
      "SOC_max: 1\n",
      "SOC: 0.20\n"
     ]
    }
   ],
   "source": [
    "Bat1 = M1.get_battery()\n",
    "Bat1.print_status()"
   ]
  },
  {
   "cell_type": "markdown",
   "metadata": {},
   "source": [
    "Fetch disconnector objects:"
   ]
  },
  {
   "cell_type": "code",
   "execution_count": 5,
   "metadata": {},
   "outputs": [],
   "source": [
    "L1a = ps.get_comp(\"L1a\")\n",
    "L1b = ps.get_comp(\"L1b\")\n",
    "L1c = ps.get_comp(\"L1c\")\n",
    "L2a = ps.get_comp(\"L2a\")\n",
    "L3a = ps.get_comp(\"L3a\")\n",
    "L3b = ps.get_comp(\"L3b\")\n",
    "L4a = ps.get_comp(\"L4a\")\n",
    "L5a = ps.get_comp(\"L5a\")\n",
    "L6a = ps.get_comp(\"L6a\")\n",
    "L7a = ps.get_comp(\"L7a\")\n",
    "L7b = ps.get_comp(\"L7b\")"
   ]
  },
  {
   "cell_type": "markdown",
   "metadata": {},
   "source": [
    "Get load profiles:"
   ]
  },
  {
   "cell_type": "code",
   "execution_count": 6,
   "metadata": {},
   "outputs": [],
   "source": [
    "temp_profiles, wind_profiles, solar_profiles = WeatherGen()\n",
    "\n",
    "wind = windGen(wind_profiles)\n",
    "PV = PVgeneration(temp_profiles, solar_profiles)\n",
    "\n",
    "load_house, load_farm, load_industry2, load_trade, load_office = LoadGen(temp_profiles)"
   ]
  },
  {
   "cell_type": "markdown",
   "metadata": {},
   "source": [
    "Set loads:"
   ]
  },
  {
   "cell_type": "code",
   "execution_count": 7,
   "metadata": {},
   "outputs": [],
   "source": [
    "# B0.set_load(0.001,0.0006)\n",
    "B1.set_load(0.001,0.0006)\n",
    "B2.set_load(0.001,0.0006)\n",
    "B3.set_load(0.001,0.0006)\n",
    "B4.set_load(0.001,0.0006)\n",
    "B5.set_load(0.001,0.0006)\n",
    "M1.set_load(0.001,0.0006)\n",
    "M2.set_load(0.001,0.0006)\n",
    "M3.set_load(0.001,0.0006)"
   ]
  },
  {
   "cell_type": "markdown",
   "metadata": {},
   "source": [
    "Inflict errors:"
   ]
  },
  {
   "cell_type": "code",
   "execution_count": 8,
   "metadata": {},
   "outputs": [],
   "source": [
    "L2a.open()\n",
    "L6a.open()\n",
    "L7b.open()"
   ]
  },
  {
   "cell_type": "markdown",
   "metadata": {},
   "source": [
    "Plot network:"
   ]
  },
  {
   "cell_type": "code",
   "execution_count": 9,
   "metadata": {},
   "outputs": [
    {
     "data": {
      "image/png": "[encoded data removed]",
      "text/plain": [
       "<Figure size 252x324 with 1 Axes>"
      ]
     },
     "metadata": {
      "needs_background": "light"
     },
     "output_type": "display_data"
    }
   ],
   "source": [
    "plot_topology(ps.active_buses,ps.active_lines)"
   ]
  },
  {
   "cell_type": "markdown",
   "metadata": {},
   "source": [
    "Find possible functional subsystems:"
   ]
  },
  {
   "cell_type": "code",
   "execution_count": 10,
   "metadata": {},
   "outputs": [],
   "source": [
    "ps.find_sub_systems()"
   ]
  },
  {
   "cell_type": "markdown",
   "metadata": {},
   "source": [
    "Update sub system slack buses:"
   ]
  },
  {
   "cell_type": "code",
   "execution_count": 11,
   "metadata": {},
   "outputs": [],
   "source": [
    "ps.update_sub_system_slack()"
   ]
  },
  {
   "cell_type": "markdown",
   "metadata": {},
   "source": [
    "Plot and run loadflow of sub systems:"
   ]
  },
  {
   "cell_type": "code",
   "execution_count": 12,
   "metadata": {},
   "outputs": [
    {
     "data": {
      "image/png": "[encoded data removed]",
      "text/plain": [
       "<Figure size 252x324 with 1 Axes>"
      ]
     },
     "metadata": {
      "needs_background": "light"
     },
     "output_type": "display_data"
    },
    {
     "name": "stdout",
     "output_type": "stream",
     "text": [
      "Iter:  1 Pload:  0.0030 Qload:  0.0018 Ploss:  0.0000 Qloss:  0.0000\n",
      "Iter:  2 Pload:  0.0030 Qload:  0.0018 Ploss:  0.0000 Qloss:  0.0000\n",
      "Iter:  3 Pload:  0.0030 Qload:  0.0018 Ploss:  0.0000 Qloss:  0.0000\n",
      "Iter:  4 Pload:  0.0030 Qload:  0.0018 Ploss:  0.0000 Qloss:  0.0000\n",
      "Iter:  5 Pload:  0.0030 Qload:  0.0018 Ploss:  0.0000 Qloss:  0.0000\n",
      "\n",
      " ****** Load flow completed ****** \n",
      "\n",
      " \n",
      " Bus name : B0  Vmag : 1.00000  Theta : 0.00000\n",
      " Bus name : B1  Vmag : 0.99977  Theta : 0.00089\n",
      " Bus name : B3  Vmag : 0.99962  Theta : 0.00149\n",
      " Bus name : B4  Vmag : 0.99955  Theta : 0.00179\n",
      " FromBus :B0 ToBus :B1  Pfrom :  0.0030  Qfrom :   0.0018  Pto : -0.0030  Qto : -0.0018\n",
      " FromBus :B1 ToBus :B3  Pfrom :  0.0020  Qfrom :   0.0012  Pto : -0.0020  Qto : -0.0012\n",
      " FromBus :B3 ToBus :B4  Pfrom :  0.0010  Qfrom :   0.0006  Pto : -0.0010  Qto : -0.0006\n"
     ]
    },
    {
     "data": {
      "image/png": "[encoded data removed]",
      "text/plain": [
       "<Figure size 252x324 with 1 Axes>"
      ]
     },
     "metadata": {
      "needs_background": "light"
     },
     "output_type": "display_data"
    },
    {
     "name": "stdout",
     "output_type": "stream",
     "text": [
      "Iter:  1 Pload:  0.0020 Qload:  0.0012 Ploss:  0.0000 Qloss:  0.0000\n",
      "Iter:  2 Pload:  0.0020 Qload:  0.0012 Ploss:  0.0000 Qloss:  0.0000\n",
      "Iter:  3 Pload:  0.0020 Qload:  0.0012 Ploss:  0.0000 Qloss:  0.0000\n",
      "Iter:  4 Pload:  0.0020 Qload:  0.0012 Ploss:  0.0000 Qloss:  0.0000\n",
      "Iter:  5 Pload:  0.0020 Qload:  0.0012 Ploss:  0.0000 Qloss:  0.0000\n",
      "\n",
      " ****** Load flow completed ****** \n",
      "\n",
      " \n",
      " Bus name : B5  Vmag : 1.00000  Theta : 0.00000\n",
      " Bus name : B2  Vmag : 0.99992  Theta : 0.00030\n",
      " FromBus :B5 ToBus :B2  Pfrom :  0.0010  Qfrom :   0.0006  Pto : -0.0010  Qto : -0.0006\n"
     ]
    },
    {
     "data": {
      "image/png": "[encoded data removed]",
      "text/plain": [
       "<Figure size 252x324 with 1 Axes>"
      ]
     },
     "metadata": {
      "needs_background": "light"
     },
     "output_type": "display_data"
    },
    {
     "name": "stdout",
     "output_type": "stream",
     "text": [
      "Iter:  1 Pload:  0.0030 Qload:  0.0018 Ploss:  0.0000 Qloss:  0.0000\n",
      "Iter:  2 Pload:  0.0030 Qload:  0.0018 Ploss:  0.0000 Qloss:  0.0000\n",
      "Iter:  3 Pload:  0.0030 Qload:  0.0018 Ploss:  0.0000 Qloss:  0.0000\n",
      "Iter:  4 Pload:  0.0030 Qload:  0.0018 Ploss:  0.0000 Qloss:  0.0000\n",
      "Iter:  5 Pload:  0.0030 Qload:  0.0018 Ploss:  0.0000 Qloss:  0.0000\n",
      "\n",
      " ****** Load flow completed ****** \n",
      "\n",
      " \n",
      " Bus name : M1  Vmag : 1.00000  Theta : 0.00000\n",
      " Bus name : M2  Vmag : 0.99992  Theta : 0.00030\n",
      " Bus name : M3  Vmag : 0.99992  Theta : 0.00030\n",
      " FromBus :M1 ToBus :M2  Pfrom :  0.0010  Qfrom :   0.0006  Pto : -0.0010  Qto : -0.0006\n",
      " FromBus :M1 ToBus :M3  Pfrom :  0.0010  Qfrom :   0.0006  Pto : -0.0010  Qto : -0.0006\n"
     ]
    }
   ],
   "source": [
    "for sub_system in ps.sub_systems:\n",
    "    plot_topology(sub_system[\"buses\"],sub_system[\"lines\"])\n",
    "    buses = DistLoadFlow(sub_system[\"buses\"],sub_system[\"lines\"])\n",
    "\n",
    "    dispVolt(buses,tpres=False)\n",
    "    dispFlow(buses, sub_system[\"lines\"],tpres=False)"
   ]
  }
 ],
 "metadata": {
  "kernelspec": {
   "display_name": "Python 3",
   "language": "python",
   "name": "python3"
  },
  "language_info": {
   "codemirror_mode": {
    "name": "ipython",
    "version": 3
   },
   "file_extension": ".py",
   "mimetype": "text/x-python",
   "name": "python",
   "nbconvert_exporter": "python",
   "pygments_lexer": "ipython3",
   "version": "3.7.9"
  }
 },
 "nbformat": 4,
 "nbformat_minor": 4
}
